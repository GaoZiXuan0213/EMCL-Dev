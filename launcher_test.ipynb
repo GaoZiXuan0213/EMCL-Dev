{
 "cells": [
  {
   "cell_type": "code",
   "execution_count": 1,
   "metadata": {},
   "outputs": [
    {
     "data": {
      "text/plain": [
       "['demo']"
      ]
     },
     "execution_count": 1,
     "metadata": {},
     "output_type": "execute_result"
    }
   ],
   "source": [
    "import os\n",
    "os.listdir(\"G:\\\\emcl\\\\.minecraft\\\\versions\\\\\")"
   ]
  },
  {
   "cell_type": "code",
   "execution_count": null,
   "metadata": {},
   "outputs": [],
   "source": [
    "    for count, i in enumerate(data[\"libraries\"]):\n",
    "        if not parse_rule_list(i, \"rules\", {}):\n",
    "            continue\n",
    "        # Turn the name into a path\n",
    "        currentPath = os.path.join(path, \"libraries\")\n",
    "        if \"url\" in i:\n",
    "            if i[\"url\"].endswith(\"/\"):\n",
    "                downloadUrl = i[\"url\"][:-1]\n",
    "            else:\n",
    "                downloadUrl = i[\"url\"]\n",
    "        else:\n",
    "            downloadUrl = \"https://libraries.minecraft.net\"\n",
    "        try:\n",
    "            libPath, name, version = i[\"name\"].split(\":\")[0:3]\n",
    "        except ValueError:\n",
    "            continue\n",
    "        for libPart in libPath.split(\".\"):\n",
    "            currentPath = os.path.join(currentPath, libPart)\n",
    "            downloadUrl = downloadUrl + \"/\" + libPart\n",
    "        try:\n",
    "            version, fileend = version.split(\"@\")\n",
    "        except ValueError:\n",
    "            fileend = \"jar\"\n",
    "        jarFilename = name + \"-\" + version + \".\" + fileend\n",
    "        downloadUrl = downloadUrl + \"/\" + name + \"/\" + version\n",
    "        currentPath = os.path.join(currentPath, name, version)\n",
    "        native = get_natives(i)\n",
    "        # Check if there is a native file\n",
    "        if native != \"\":\n",
    "            jarFilenameNative = name + \"-\" + version + \"-\" + native + \".jar\"\n",
    "        jarFilename = name + \"-\" + version + \".\" + fileend\n",
    "        downloadUrl = downloadUrl + \"/\" + jarFilename\n",
    "        # Try to download the lib\n",
    "        try:\n",
    "            download_file(downloadUrl, os.path.join(currentPath, jarFilename), callback)\n",
    "        except Exception:\n",
    "            pass\n",
    "        if \"downloads\" not in i:\n",
    "            if \"extract\" in i:\n",
    "                extract_natives_file(os.path.join(currentPath, jarFilenameNative), os.path.join(path, \"versions\", data[\"id\"], \"natives\"), i[\"extract\"])\n",
    "            continue\n",
    "        if \"artifact\" in i[\"downloads\"]:\n",
    "            download_file(i[\"downloads\"][\"artifact\"][\"url\"], os.path.join(path, \"libraries\", i[\"downloads\"][\"artifact\"][\"path\"]), callback, sha1=i[\"downloads\"][\"artifact\"][\"sha1\"])\n",
    "        if native != \"\":\n",
    "            download_file(i[\"downloads\"][\"classifiers\"][native][\"url\"], os.path.join(currentPath, jarFilenameNative), callback, sha1=i[\"downloads\"][\"classifiers\"][native][\"sha1\"])\n",
    "            if \"extract\" in i:\n",
    "                extract_natives_file(os.path.join(currentPath, jarFilenameNative), os.path.join(path, \"versions\", data[\"id\"], \"natives\"), i[\"extract\"])\n",
    "        callback.get(\"setProgress\", empty)(count)"
   ]
  }
 ],
 "metadata": {
  "interpreter": {
   "hash": "004de6046f1b3d314f33fdb43a2dc798b2646e5600efd8df5066c8b63a00ff6d"
  },
  "kernelspec": {
   "display_name": "Python 3.8.0 64-bit",
   "language": "python",
   "name": "python3"
  },
  "language_info": {
   "codemirror_mode": {
    "name": "ipython",
    "version": 3
   },
   "file_extension": ".py",
   "mimetype": "text/x-python",
   "name": "python",
   "nbconvert_exporter": "python",
   "pygments_lexer": "ipython3",
   "version": "3.8.0"
  },
  "orig_nbformat": 4
 },
 "nbformat": 4,
 "nbformat_minor": 2
}
